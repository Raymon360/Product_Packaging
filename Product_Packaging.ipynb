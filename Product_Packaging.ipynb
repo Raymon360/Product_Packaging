{
 "cells": [
  {
   "cell_type": "markdown",
   "metadata": {
    "id": "h8GnbQhHZ0eF"
   },
   "source": [
    "# Project Machine Learning for Retail with R_Product Packaging\n",
    "Tujuan dari project ini untuk menemukan insight dari kombinasi produk di sebuah toko Fashion."
   ]
  },
  {
   "cell_type": "code",
   "execution_count": 1,
   "metadata": {
    "id": "74JDnSu4bqCq"
   },
   "outputs": [
    {
     "name": "stdout",
     "output_type": "stream",
     "text": [
      "\n",
      "  There is a binary version available but the source version is later:\n",
      "       binary source needs_compilation\n",
      "arules  1.7-6  1.7-7              TRUE\n",
      "\n",
      "  Binaries will be installed\n",
      "package 'arules' successfully unpacked and MD5 sums checked\n",
      "\n",
      "The downloaded binary packages are in\n",
      "\tC:\\Users\\pocad\\AppData\\Local\\Temp\\RtmpkRMN3n\\downloaded_packages\n"
     ]
    }
   ],
   "source": [
    "install.packages(\"arules\")"
   ]
  },
  {
   "cell_type": "code",
   "execution_count": 1,
   "metadata": {
    "id": "t33oMn27Y29N"
   },
   "outputs": [
    {
     "name": "stderr",
     "output_type": "stream",
     "text": [
      "Loading required package: Matrix\n",
      "\n",
      "\n",
      "Attaching package: 'arules'\n",
      "\n",
      "\n",
      "The following objects are masked from 'package:base':\n",
      "\n",
      "    abbreviate, write\n",
      "\n",
      "\n"
     ]
    },
    {
     "data": {
      "text/plain": [
       "transactions in sparse format with\n",
       " 3450 transactions (rows) and\n",
       " 69 items (columns)"
      ]
     },
     "metadata": {},
     "output_type": "display_data"
    }
   ],
   "source": [
    "library(arules)\n",
    "\n",
    "# Baca dataset transaksi dari file TSV\n",
    "transaksi_tabular <- read.transactions(file = \"C:\\\\Users\\\\pocad\\\\Downloads\\\\Project_Produk_Packaging\\\\transaksi_dqlab_retail.tsv\", format = \"single\", sep = \"\\t\", cols = c(1, 2), skip = 1)\n",
    "\n",
    "# Tulis dataset transaksi ke dalam file teks dengan delimiter koma (,)\n",
    "write(transaksi_tabular, file = \"C:\\\\Users\\\\pocad\\\\Downloads\\\\Project_Produk_Packaging\\\\test_project_retail_1.txt\", sep = \",\")\n",
    "\n",
    "# Menampilkan dataset transaksi\n",
    "transaksi_tabular\n"
   ]
  },
  {
   "cell_type": "code",
   "execution_count": 2,
   "metadata": {
    "id": "6BTlMKetiEh5"
   },
   "outputs": [
    {
     "data": {
      "text/html": [
       "<table class=\"dataframe\">\n",
       "<caption>A data.frame: 6 × 2</caption>\n",
       "<thead>\n",
       "\t<tr><th></th><th scope=col>Kode.Transaksi</th><th scope=col>Nama.Barang</th></tr>\n",
       "\t<tr><th></th><th scope=col>&lt;chr&gt;</th><th scope=col>&lt;chr&gt;</th></tr>\n",
       "</thead>\n",
       "<tbody>\n",
       "\t<tr><th scope=row>1</th><td>#1</td><td>Kaos                     </td></tr>\n",
       "\t<tr><th scope=row>2</th><td>#1</td><td>Shampo Biasa             </td></tr>\n",
       "\t<tr><th scope=row>3</th><td>#1</td><td>Sepatu Sport merk Z      </td></tr>\n",
       "\t<tr><th scope=row>4</th><td>#1</td><td>Serum Vitamin            </td></tr>\n",
       "\t<tr><th scope=row>5</th><td>#1</td><td>Baju Renang Pria Dewasa  </td></tr>\n",
       "\t<tr><th scope=row>6</th><td>#1</td><td>Baju Renang Wanita Dewasa</td></tr>\n",
       "</tbody>\n",
       "</table>\n"
      ],
      "text/latex": [
       "A data.frame: 6 × 2\n",
       "\\begin{tabular}{r|ll}\n",
       "  & Kode.Transaksi & Nama.Barang\\\\\n",
       "  & <chr> & <chr>\\\\\n",
       "\\hline\n",
       "\t1 & \\#1 & Kaos                     \\\\\n",
       "\t2 & \\#1 & Shampo Biasa             \\\\\n",
       "\t3 & \\#1 & Sepatu Sport merk Z      \\\\\n",
       "\t4 & \\#1 & Serum Vitamin            \\\\\n",
       "\t5 & \\#1 & Baju Renang Pria Dewasa  \\\\\n",
       "\t6 & \\#1 & Baju Renang Wanita Dewasa\\\\\n",
       "\\end{tabular}\n"
      ],
      "text/markdown": [
       "\n",
       "A data.frame: 6 × 2\n",
       "\n",
       "| <!--/--> | Kode.Transaksi &lt;chr&gt; | Nama.Barang &lt;chr&gt; |\n",
       "|---|---|---|\n",
       "| 1 | #1 | Kaos                      |\n",
       "| 2 | #1 | Shampo Biasa              |\n",
       "| 3 | #1 | Sepatu Sport merk Z       |\n",
       "| 4 | #1 | Serum Vitamin             |\n",
       "| 5 | #1 | Baju Renang Pria Dewasa   |\n",
       "| 6 | #1 | Baju Renang Wanita Dewasa |\n",
       "\n"
      ],
      "text/plain": [
       "  Kode.Transaksi Nama.Barang              \n",
       "1 #1             Kaos                     \n",
       "2 #1             Shampo Biasa             \n",
       "3 #1             Sepatu Sport merk Z      \n",
       "4 #1             Serum Vitamin            \n",
       "5 #1             Baju Renang Pria Dewasa  \n",
       "6 #1             Baju Renang Wanita Dewasa"
      ]
     },
     "metadata": {},
     "output_type": "display_data"
    },
    {
     "data": {
      "text/html": [
       "<table class=\"dataframe\">\n",
       "<caption>A data.frame: 6 × 2</caption>\n",
       "<thead>\n",
       "\t<tr><th></th><th scope=col>Kode.Transaksi</th><th scope=col>Nama.Barang</th></tr>\n",
       "\t<tr><th></th><th scope=col>&lt;chr&gt;</th><th scope=col>&lt;chr&gt;</th></tr>\n",
       "</thead>\n",
       "<tbody>\n",
       "\t<tr><th scope=row>33663</th><td>#3450</td><td>Wedges Hitam        </td></tr>\n",
       "\t<tr><th scope=row>33664</th><td>#3450</td><td>Flat Shoes Ballerina</td></tr>\n",
       "\t<tr><th scope=row>33665</th><td>#3450</td><td>Sepatu Sandal Anak  </td></tr>\n",
       "\t<tr><th scope=row>33666</th><td>#3450</td><td>Sepatu Kulit Casual </td></tr>\n",
       "\t<tr><th scope=row>33667</th><td>#3450</td><td>Celana Jogger Casual</td></tr>\n",
       "\t<tr><th scope=row>33668</th><td>#3450</td><td>Sepatu Sport merk Z </td></tr>\n",
       "</tbody>\n",
       "</table>\n"
      ],
      "text/latex": [
       "A data.frame: 6 × 2\n",
       "\\begin{tabular}{r|ll}\n",
       "  & Kode.Transaksi & Nama.Barang\\\\\n",
       "  & <chr> & <chr>\\\\\n",
       "\\hline\n",
       "\t33663 & \\#3450 & Wedges Hitam        \\\\\n",
       "\t33664 & \\#3450 & Flat Shoes Ballerina\\\\\n",
       "\t33665 & \\#3450 & Sepatu Sandal Anak  \\\\\n",
       "\t33666 & \\#3450 & Sepatu Kulit Casual \\\\\n",
       "\t33667 & \\#3450 & Celana Jogger Casual\\\\\n",
       "\t33668 & \\#3450 & Sepatu Sport merk Z \\\\\n",
       "\\end{tabular}\n"
      ],
      "text/markdown": [
       "\n",
       "A data.frame: 6 × 2\n",
       "\n",
       "| <!--/--> | Kode.Transaksi &lt;chr&gt; | Nama.Barang &lt;chr&gt; |\n",
       "|---|---|---|\n",
       "| 33663 | #3450 | Wedges Hitam         |\n",
       "| 33664 | #3450 | Flat Shoes Ballerina |\n",
       "| 33665 | #3450 | Sepatu Sandal Anak   |\n",
       "| 33666 | #3450 | Sepatu Kulit Casual  |\n",
       "| 33667 | #3450 | Celana Jogger Casual |\n",
       "| 33668 | #3450 | Sepatu Sport merk Z  |\n",
       "\n"
      ],
      "text/plain": [
       "      Kode.Transaksi Nama.Barang         \n",
       "33663 #3450          Wedges Hitam        \n",
       "33664 #3450          Flat Shoes Ballerina\n",
       "33665 #3450          Sepatu Sandal Anak  \n",
       "33666 #3450          Sepatu Kulit Casual \n",
       "33667 #3450          Celana Jogger Casual\n",
       "33668 #3450          Sepatu Sport merk Z "
      ]
     },
     "metadata": {},
     "output_type": "display_data"
    }
   ],
   "source": [
    "# Membaca file TSV dengan header\n",
    "data <- read.delim(\"C:\\\\Users\\\\pocad\\\\Downloads\\\\Project_Produk_Packaging\\\\transaksi_dqlab_retail.tsv\", header = TRUE)\n",
    "\n",
    "# Menampilkan beberapa baris data teratas\n",
    "head(data)\n",
    "\n",
    "# Menampilkan beberapa baris data terbawah\n",
    "tail(data)\n"
   ]
  },
  {
   "cell_type": "code",
   "execution_count": 3,
   "metadata": {
    "id": "LCT9IN1FcZCb"
   },
   "outputs": [
    {
     "data": {
      "text/html": [
       "<table class=\"dataframe\">\n",
       "<caption>A data.frame: 10 × 2</caption>\n",
       "<thead>\n",
       "\t<tr><th scope=col>Nama.Produk</th><th scope=col>Jumlah</th></tr>\n",
       "\t<tr><th scope=col>&lt;chr&gt;</th><th scope=col>&lt;dbl&gt;</th></tr>\n",
       "</thead>\n",
       "<tbody>\n",
       "\t<tr><td>Shampo Biasa             </td><td>2075</td></tr>\n",
       "\t<tr><td>Serum Vitamin            </td><td>1685</td></tr>\n",
       "\t<tr><td>Baju Batik Wanita        </td><td>1312</td></tr>\n",
       "\t<tr><td>Baju Kemeja Putih        </td><td>1255</td></tr>\n",
       "\t<tr><td>Celana Jogger Casual     </td><td>1136</td></tr>\n",
       "\t<tr><td>Cover Koper              </td><td>1086</td></tr>\n",
       "\t<tr><td>Sepatu Sandal Anak       </td><td>1062</td></tr>\n",
       "\t<tr><td>Tali Pinggang Gesper Pria</td><td>1003</td></tr>\n",
       "\t<tr><td>Sepatu Sport merk Z      </td><td> 888</td></tr>\n",
       "\t<tr><td>Wedges Hitam             </td><td> 849</td></tr>\n",
       "</tbody>\n",
       "</table>\n"
      ],
      "text/latex": [
       "A data.frame: 10 × 2\n",
       "\\begin{tabular}{ll}\n",
       " Nama.Produk & Jumlah\\\\\n",
       " <chr> & <dbl>\\\\\n",
       "\\hline\n",
       "\t Shampo Biasa              & 2075\\\\\n",
       "\t Serum Vitamin             & 1685\\\\\n",
       "\t Baju Batik Wanita         & 1312\\\\\n",
       "\t Baju Kemeja Putih         & 1255\\\\\n",
       "\t Celana Jogger Casual      & 1136\\\\\n",
       "\t Cover Koper               & 1086\\\\\n",
       "\t Sepatu Sandal Anak        & 1062\\\\\n",
       "\t Tali Pinggang Gesper Pria & 1003\\\\\n",
       "\t Sepatu Sport merk Z       &  888\\\\\n",
       "\t Wedges Hitam              &  849\\\\\n",
       "\\end{tabular}\n"
      ],
      "text/markdown": [
       "\n",
       "A data.frame: 10 × 2\n",
       "\n",
       "| Nama.Produk &lt;chr&gt; | Jumlah &lt;dbl&gt; |\n",
       "|---|---|\n",
       "| Shampo Biasa              | 2075 |\n",
       "| Serum Vitamin             | 1685 |\n",
       "| Baju Batik Wanita         | 1312 |\n",
       "| Baju Kemeja Putih         | 1255 |\n",
       "| Celana Jogger Casual      | 1136 |\n",
       "| Cover Koper               | 1086 |\n",
       "| Sepatu Sandal Anak        | 1062 |\n",
       "| Tali Pinggang Gesper Pria | 1003 |\n",
       "| Sepatu Sport merk Z       |  888 |\n",
       "| Wedges Hitam              |  849 |\n",
       "\n"
      ],
      "text/plain": [
       "   Nama.Produk               Jumlah\n",
       "1  Shampo Biasa              2075  \n",
       "2  Serum Vitamin             1685  \n",
       "3  Baju Batik Wanita         1312  \n",
       "4  Baju Kemeja Putih         1255  \n",
       "5  Celana Jogger Casual      1136  \n",
       "6  Cover Koper               1086  \n",
       "7  Sepatu Sandal Anak        1062  \n",
       "8  Tali Pinggang Gesper Pria 1003  \n",
       "9  Sepatu Sport merk Z        888  \n",
       "10 Wedges Hitam               849  "
      ]
     },
     "metadata": {},
     "output_type": "display_data"
    }
   ],
   "source": [
    "library(arules)\n",
    "\n",
    "# Membaca dataset transaksi dari file TSV\n",
    "data <- read.transactions(file = \"C:\\\\Users\\\\pocad\\\\Downloads\\\\Project_Produk_Packaging\\\\transaksi_dqlab_retail.tsv\", format = \"single\", sep = \"\\t\", cols = c(1, 2), skip = 1)\n",
    "\n",
    "# Menghitung frekuensi masing-masing item\n",
    "top10 <- sort(itemFrequency(data, type = \"absolute\"), decreasing = TRUE)[1:10]\n",
    "\n",
    "# Membuat data frame dari 10 produk teratas\n",
    "hasil <- data.frame(\"Nama Produk\" = names(top10), \"Jumlah\" = as.numeric(top10), row.names = NULL)\n",
    "\n",
    "# Menyimpan hasil ke dalam file CSV\n",
    "write.csv(hasil, file = \"C:\\\\Users\\\\pocad\\\\Downloads\\\\Project_Produk_Packaging\\\\top10.txt\", row.names = FALSE)\n",
    "\n",
    "# Menampilkan hasil\n",
    "hasil\n"
   ]
  },
  {
   "cell_type": "markdown",
   "metadata": {
    "id": "PolOprpL54ko"
   },
   "source": [
    "Dalam kumpulan produk dengan frekuensi penjualan tertinggi, terdapat perincian yang menarik. Dari 10 produk teratas, satu produk mampu mencapai angka penjualan melebihi 2000, sementara tujuh produk lainnya memiliki rentang penjualan antara 1000 hingga kurang dari 2000 unit. Sementara itu, dua produk lainnya memperoleh penjualan di bawah angka 1000. Produk yang paling diminati adalah Shampo Biasa, yang mencatat jumlah penjualan tertinggi di atas 2000 unit, khususnya sebanyak 2075 penjualan.\n",
    "\n",
    "Selanjutnya, tujuh produk lainnya memiliki popularitas yang cukup tinggi, masing-masing dengan angka penjualan antara 1000 hingga kurang dari 2000 unit. Produk-produk ini meliputi Serum Vitamin dengan jumlah penjualan 1685 unit, Baju Batik Wanita (1312 unit), Baju Kemeja Putih (1255 unit), Celana Jogger Casual (1136 unit), Cover Koper (1086 unit), Sepatu Sandal Anak (1062 unit), dan Tali Pinggang Gesper Pria (1003 unit).\n",
    "\n",
    "Terakhir, terdapat dua produk yang memiliki penjualan di bawah angka 1000, yakni Sepatu Sport merek Z dengan jumlah 888 penjualan dan Wedges Hitam dengan jumlah 849 penjualan.\n",
    "\n",
    "Dari data tersebut, dapat dilihat bahwa Shampo Biasa menonjol sebagai produk paling diminati dengan penjualan yang signifikan di atas 2000 unit, sementara produk-produk lainnya tetap memiliki kisaran penjualan yang cukup baik, tetapi masih di bawah angka 2000 unit."
   ]
  },
  {
   "cell_type": "code",
   "execution_count": 4,
   "metadata": {
    "id": "jiPVn-ZhGQr2"
   },
   "outputs": [
    {
     "data": {
      "text/html": [
       "<table class=\"dataframe\">\n",
       "<caption>A data.frame: 10 × 2</caption>\n",
       "<thead>\n",
       "\t<tr><th scope=col>Nama.Produk</th><th scope=col>Jumlah</th></tr>\n",
       "\t<tr><th scope=col>&lt;chr&gt;</th><th scope=col>&lt;dbl&gt;</th></tr>\n",
       "</thead>\n",
       "<tbody>\n",
       "\t<tr><td>Celana Jeans Sobek Pria   </td><td> 9</td></tr>\n",
       "\t<tr><td>Tas Kosmetik              </td><td>11</td></tr>\n",
       "\t<tr><td>Stripe Pants              </td><td>19</td></tr>\n",
       "\t<tr><td>Pelembab                  </td><td>24</td></tr>\n",
       "\t<tr><td>Tali Ban Ikat Pinggang    </td><td>27</td></tr>\n",
       "\t<tr><td>Baju Renang Pria Anak-anak</td><td>32</td></tr>\n",
       "\t<tr><td>Hair Dye                  </td><td>46</td></tr>\n",
       "\t<tr><td>Atasan Baju Belang        </td><td>56</td></tr>\n",
       "\t<tr><td>Tas Sekolah Anak Perempuan</td><td>71</td></tr>\n",
       "\t<tr><td>Dompet Unisex             </td><td>75</td></tr>\n",
       "</tbody>\n",
       "</table>\n"
      ],
      "text/latex": [
       "A data.frame: 10 × 2\n",
       "\\begin{tabular}{ll}\n",
       " Nama.Produk & Jumlah\\\\\n",
       " <chr> & <dbl>\\\\\n",
       "\\hline\n",
       "\t Celana Jeans Sobek Pria    &  9\\\\\n",
       "\t Tas Kosmetik               & 11\\\\\n",
       "\t Stripe Pants               & 19\\\\\n",
       "\t Pelembab                   & 24\\\\\n",
       "\t Tali Ban Ikat Pinggang     & 27\\\\\n",
       "\t Baju Renang Pria Anak-anak & 32\\\\\n",
       "\t Hair Dye                   & 46\\\\\n",
       "\t Atasan Baju Belang         & 56\\\\\n",
       "\t Tas Sekolah Anak Perempuan & 71\\\\\n",
       "\t Dompet Unisex              & 75\\\\\n",
       "\\end{tabular}\n"
      ],
      "text/markdown": [
       "\n",
       "A data.frame: 10 × 2\n",
       "\n",
       "| Nama.Produk &lt;chr&gt; | Jumlah &lt;dbl&gt; |\n",
       "|---|---|\n",
       "| Celana Jeans Sobek Pria    |  9 |\n",
       "| Tas Kosmetik               | 11 |\n",
       "| Stripe Pants               | 19 |\n",
       "| Pelembab                   | 24 |\n",
       "| Tali Ban Ikat Pinggang     | 27 |\n",
       "| Baju Renang Pria Anak-anak | 32 |\n",
       "| Hair Dye                   | 46 |\n",
       "| Atasan Baju Belang         | 56 |\n",
       "| Tas Sekolah Anak Perempuan | 71 |\n",
       "| Dompet Unisex              | 75 |\n",
       "\n"
      ],
      "text/plain": [
       "   Nama.Produk                Jumlah\n",
       "1  Celana Jeans Sobek Pria     9    \n",
       "2  Tas Kosmetik               11    \n",
       "3  Stripe Pants               19    \n",
       "4  Pelembab                   24    \n",
       "5  Tali Ban Ikat Pinggang     27    \n",
       "6  Baju Renang Pria Anak-anak 32    \n",
       "7  Hair Dye                   46    \n",
       "8  Atasan Baju Belang         56    \n",
       "9  Tas Sekolah Anak Perempuan 71    \n",
       "10 Dompet Unisex              75    "
      ]
     },
     "metadata": {},
     "output_type": "display_data"
    }
   ],
   "source": [
    "library(arules)\n",
    "\n",
    "# Membaca dataset transaksi dari file TSV\n",
    "data <- read.transactions(file = \"C:\\\\Users\\\\pocad\\\\Downloads\\\\Project_Produk_Packaging\\\\transaksi_dqlab_retail.tsv\", format = \"single\", sep = \"\\t\", cols = c(1, 2), skip = 1)\n",
    "\n",
    "# Menghitung frekuensi masing-masing item\n",
    "bottom10 <- sort(itemFrequency(data, type = \"absolute\"), decreasing = FALSE)[1:10]\n",
    "\n",
    "# Membuat data frame dari 10 produk terbawah\n",
    "hasil <- data.frame(\"Nama Produk\" = names(bottom10), \"Jumlah\" = as.numeric(bottom10), row.names = NULL)\n",
    "\n",
    "# Menyimpan hasil ke dalam file CSV\n",
    "write.csv(hasil, file = \"C:\\\\Users\\\\pocad\\\\Downloads\\\\Project_Produk_Packaging\\\\bottom10.txt\", row.names = FALSE)\n",
    "\n",
    "# Menampilkan hasil\n",
    "hasil\n"
   ]
  },
  {
   "cell_type": "markdown",
   "metadata": {
    "id": "8e5WdDiw9yAh"
   },
   "source": [
    "Dalam analisis data penjualan produk, terlihat variasi jumlah penjualan di berbagai produk yang dijual. Celana Jeans Sobek Pria dan Tas Kosmetik masing-masing mencatat penjualan 9 dan 11 unit, sementara Stripe Pants dan Pelembab memiliki angka penjualan yang sedikit lebih tinggi dengan masing-masing 19 dan 24 unit.\n",
    "\n",
    "Terkemuka di antara produk-produk tersebut adalah Tali Ban Ikat Pinggang yang terjual sebanyak 27 unit, diikuti oleh Baju Renang Pria Anak-anak dengan 32 unit penjualan. Di level yang lebih tinggi, Hair Dye mendapatkan popularitas yang cukup besar dengan penjualan sebanyak 46 unit.\n",
    "\n",
    "Produk Atasan Baju Belang menonjol dengan penjualan mencapai 56 unit, sedangkan Tas Sekolah Anak Perempuan memperoleh jumlah penjualan yang lebih besar lagi, mencapai angka 71 unit. Puncaknya adalah Dompet Unisex yang memimpin dalam penjualan dengan total 75 unit."
   ]
  },
  {
   "cell_type": "code",
   "execution_count": 6,
   "metadata": {
    "id": "D8l1b6NRed9d"
   },
   "outputs": [
    {
     "name": "stdout",
     "output_type": "stream",
     "text": [
      "Apriori\n",
      "\n",
      "Parameter specification:\n",
      " confidence minval smax arem  aval originalSupport maxtime     support minlen\n",
      "        0.5    0.1    1 none FALSE            TRUE       5 0.002898551      2\n",
      " maxlen target  ext\n",
      "      3  rules TRUE\n",
      "\n",
      "Algorithmic control:\n",
      " filter tree heap memopt load sort verbose\n",
      "    0.1 TRUE TRUE  FALSE TRUE    2    TRUE\n",
      "\n",
      "Absolute minimum support count: 10 \n",
      "\n",
      "set item appearances ...[0 item(s)] done [0.00s].\n",
      "set transactions ...[69 item(s), 3450 transaction(s)] done [0.00s].\n",
      "sorting and recoding items ... [68 item(s)] done [0.00s].\n",
      "creating transaction tree ... done [0.00s].\n",
      "checking subsets of size 1 2 3"
     ]
    },
    {
     "name": "stderr",
     "output_type": "stream",
     "text": [
      "Warning message in apriori(transaksi_tabular, parameter = list(supp = 10/length(transaksi_tabular), :\n",
      "\"Mining stopped (maxlen reached). Only patterns up to a length of 3 returned!\"\n"
     ]
    },
    {
     "name": "stdout",
     "output_type": "stream",
     "text": [
      " done [0.00s].\n",
      "writing ... [4637 rule(s)] done [0.00s].\n",
      "creating S4 object  ... done [0.00s].\n"
     ]
    }
   ],
   "source": [
    "# Mendapatkan Kombinasi Produk yang Menarik\n",
    "library(arules)\n",
    "\n",
    "nama_file <- \"C:\\\\Users\\\\pocad\\\\Downloads\\\\Project_Produk_Packaging\\\\transaksi_dqlab_retail.tsv\"\n",
    "transaksi_tabular <- read.transactions(file=nama_file, format=\"single\", sep=\"\\t\", cols=c(1, 2), skip=1)\n",
    "apriori_rules <- apriori(transaksi_tabular, parameter = list(supp=10/length(transaksi_tabular), conf=0.5, minlen=2, maxlen=3))"
   ]
  },
  {
   "cell_type": "code",
   "execution_count": 7,
   "metadata": {
    "id": "NAXuTGSLfS0h"
   },
   "outputs": [
    {
     "name": "stdout",
     "output_type": "stream",
     "text": [
      "     lhs                              rhs                              support confidence    coverage     lift count\n",
      "[1]  {Tas Makeup,                                                                                                   \n",
      "      Tas Pinggang Wanita}         => {Baju Renang Anak Perempuan} 0.010434783  0.8780488 0.011884058 24.42958    36\n",
      "[2]  {Tas Makeup,                                                                                                   \n",
      "      Tas Travel}                  => {Baju Renang Anak Perempuan} 0.010144928  0.8139535 0.012463768 22.64629    35\n",
      "[3]  {Tas Makeup,                                                                                                   \n",
      "      Tas Ransel Mini}             => {Baju Renang Anak Perempuan} 0.011304348  0.7358491 0.015362319 20.47322    39\n",
      "[4]  {Sunblock Cream,                                                                                               \n",
      "      Tas Pinggang Wanita}         => {Kuas Makeup }               0.016231884  0.6913580 0.023478261 20.21343    56\n",
      "[5]  {Baju Renang Anak Perempuan,                                                                                   \n",
      "      Tas Pinggang Wanita}         => {Tas Makeup}                 0.010434783  0.8000000 0.013043478 19.57447    36\n",
      "[6]  {Baju Renang Anak Perempuan,                                                                                   \n",
      "      Tas Ransel Mini}             => {Tas Makeup}                 0.011304348  0.7959184 0.014202899 19.47460    39\n",
      "[7]  {Baju Renang Anak Perempuan,                                                                                   \n",
      "      Celana Pendek Green/Hijau}   => {Tas Makeup}                 0.010144928  0.7777778 0.013043478 19.03073    35\n",
      "[8]  {Tas Makeup,                                                                                                   \n",
      "      Tas Waist Bag}               => {Baju Renang Anak Perempuan} 0.004347826  0.6818182 0.006376812 18.96994    15\n",
      "[9]  {Celana Pendek Green/Hijau,                                                                                    \n",
      "      Tas Makeup}                  => {Baju Renang Anak Perempuan} 0.010144928  0.6730769 0.015072464 18.72674    35\n",
      "[10] {Dompet Flip Cover,                                                                                            \n",
      "      Sunblock Cream}              => {Kuas Makeup }               0.016231884  0.6292135 0.025797101 18.39650    56\n"
     ]
    }
   ],
   "source": [
    "apriori_rules <- head(sort(apriori_rules, by=\"lift\", decreasing=T), n=10)\n",
    "inspect(apriori_rules)"
   ]
  },
  {
   "cell_type": "markdown",
   "metadata": {
    "id": "aH5M23PmCy63"
   },
   "source": [
    "Pembelian Tas Makeup dan Tas Pinggang Wanita cenderung berhubungan dengan pembelian Baju Renang Anak Perempuan. Dari hasil ini, diperoleh tingkat kepercayaan sekitar 87.8% dan lift sekitar 24.43.\n",
    "\n",
    "Terdapat asosiasi yang signifikan antara produk Sunblock Cream dan Tas Pinggang Wanita dengan pembelian Kuas Makeup dengan tingkat kepercayaan sekitar 69.1% dan lift sekitar 20.21.\n",
    "\n",
    "Pola pembelian lainnya menunjukkan bahwa Baju Renang Anak Perempuan berkorelasi dengan produk lain seperti Tas Ransel Mini, Celana Pendek Green/Hijau, Dompet Flip Cover, dan Tas Waist Bag dengan tingkat kepercayaan yang cukup tinggi, berkisar antara 67.3% hingga 79.8%. Hal ini menunjukkan adanya keterkaitan kuat antara pembelian produk tertentu yang mungkin dapat dimanfaatkan dalam strategi pemasaran dan penjualan di masa mendatang."
   ]
  },
  {
   "cell_type": "code",
   "execution_count": 9,
   "metadata": {
    "id": "uKephMqJf9XU"
   },
   "outputs": [],
   "source": [
    "# Menulis aturan asosiasi ke dalam file teks\n",
    "write(apriori_rules, file=\"C:\\\\Users\\\\pocad\\\\Downloads\\\\Project_Produk_Packaging\\\\kombinasi_retail.txt\")"
   ]
  },
  {
   "cell_type": "markdown",
   "metadata": {
    "id": "jwUXBirIfpZs"
   },
   "source": [
    "#####Mencari Paket Produk yang bisa dipasangkan dengan item Slow-Moving\n",
    "Slow-Moving adalah produk yang pergerakan penjualannya lambat dan kurang cepat."
   ]
  },
  {
   "cell_type": "code",
   "execution_count": 10,
   "metadata": {
    "id": "TWkwsLE6EJnF"
   },
   "outputs": [
    {
     "name": "stdout",
     "output_type": "stream",
     "text": [
      "Apriori\n",
      "\n",
      "Parameter specification:\n",
      " confidence minval smax arem  aval originalSupport maxtime     support minlen\n",
      "        0.1    0.1    1 none FALSE            TRUE       5 0.002898551      2\n",
      " maxlen target  ext\n",
      "      3  rules TRUE\n",
      "\n",
      "Algorithmic control:\n",
      " filter tree heap memopt load sort verbose\n",
      "    0.1 TRUE TRUE  FALSE TRUE    2    TRUE\n",
      "\n",
      "Absolute minimum support count: 10 \n",
      "\n",
      "set item appearances ...[0 item(s)] done [0.00s].\n",
      "set transactions ...[69 item(s), 3450 transaction(s)] done [0.00s].\n",
      "sorting and recoding items ... [68 item(s)] done [0.00s].\n",
      "creating transaction tree ... done [0.00s].\n",
      "checking subsets of size 1 2 3"
     ]
    },
    {
     "name": "stderr",
     "output_type": "stream",
     "text": [
      "Warning message in apriori(transaksi_tabular, parameter = list(supp = jumlah_kemunculan_minimal/jumlah_transaksi, :\n",
      "\"Mining stopped (maxlen reached). Only patterns up to a length of 3 returned!\"\n"
     ]
    },
    {
     "name": "stdout",
     "output_type": "stream",
     "text": [
      " done [0.00s].\n",
      "writing ... [39832 rule(s)] done [0.00s].\n",
      "creating S4 object  ... done [0.01s].\n"
     ]
    },
    {
     "name": "stderr",
     "output_type": "stream",
     "text": [
      "IOPub data rate exceeded.\n",
      "The notebook server will temporarily stop sending output\n",
      "to the client in order to avoid crashing it.\n",
      "To change this limit, set the config variable\n",
      "`--NotebookApp.iopub_data_rate_limit`.\n",
      "\n",
      "Current values:\n",
      "NotebookApp.iopub_data_rate_limit=1000000.0 (bytes/sec)\n",
      "NotebookApp.rate_limit_window=3.0 (secs)\n",
      "\n"
     ]
    }
   ],
   "source": [
    "# Memuat pustaka arules\n",
    "library(arules)\n",
    "\n",
    "# Nama file yang berisi transaksi dalam format TSV\n",
    "nama_file <- \"C:\\\\Users\\\\pocad\\\\Downloads\\\\Project_Produk_Packaging\\\\transaksi_dqlab_retail.tsv\"\n",
    "\n",
    "# Membaca transaksi dari file TSV dan mengonversinya ke format transaksi arules\n",
    "transaksi_tabular <- read.transactions(file = nama_file, format = \"single\", sep = \"\\t\", cols = c(1, 2), skip = 1)\n",
    "\n",
    "# Mendapatkan jumlah transaksi\n",
    "jumlah_transaksi <- length(transaksi_tabular)\n",
    "\n",
    "# Menentukan jumlah kemunculan minimal yang diinginkan\n",
    "jumlah_kemunculan_minimal <- 10\n",
    "\n",
    "# Melakukan analisis aturan asosiasi dengan algoritma Apriori\n",
    "apriori_rules <- apriori(transaksi_tabular,\n",
    "                         parameter = list(supp = jumlah_kemunculan_minimal / jumlah_transaksi,\n",
    "                                          conf = 0.1, minlen = 2, maxlen = 3))\n",
    "\n",
    "# Menampilkan aturan asosiasi yang dihasilkan\n",
    "inspect(apriori_rules)\n"
   ]
  },
  {
   "cell_type": "markdown",
   "metadata": {
    "id": "v3luU1slIJuY"
   },
   "source": [
    "Hasil dari inspect pada algoritma Apriori menunjukkan penggunaan parameter dan kontrol algoritma yang terperinci. Dalam analisis ini, digunakan nilai minimum confidence sebesar 10%, panjang minimum aturan asosiasi sebanyak 2 item, dan panjang maksimum aturan sebanyak 3 item. Proses penambangan aturan asosiasi berjalan dengan pengaturan struktur pohon transaksi dan pemeriksaan subset dari ukuran 1 hingga 3. Meskipun algoritma telah menghasilkan banyak aturan asosiasi (sebanyak 39832), proses mining dihentikan karena sudah mencapai panjang maksimum yang ditentukan (maxlen reached). Informasi tambahan termasuk statistik terkait data, seperti jumlah item dan transaksi yang diproses, serta pesan peringatan terkait kondisi mining yang dihentikan karena maxlen telah tercapai. Selain itu, output juga memberikan detail mengenai parameter dan kontrol algoritma yang digunakan selama proses penambangan asosiasi."
   ]
  },
  {
   "cell_type": "code",
   "execution_count": 11,
   "metadata": {
    "id": "HpXbqP15E8Zi"
   },
   "outputs": [
    {
     "name": "stdout",
     "output_type": "stream",
     "text": [
      "    lhs                              rhs                              support confidence   coverage     lift count\n",
      "[1] {Baju Renang Anak Perempuan,                                                                                  \n",
      "     Tas Pinggang Wanita}         => {Tas Makeup}                 0.010434783  0.8000000 0.01304348 19.57447    36\n",
      "[2] {Baju Renang Anak Perempuan,                                                                                  \n",
      "     Tas Ransel Mini}             => {Tas Makeup}                 0.011304348  0.7959184 0.01420290 19.47460    39\n",
      "[3] {Baju Renang Anak Perempuan,                                                                                  \n",
      "     Celana Pendek Green/Hijau}   => {Tas Makeup}                 0.010144928  0.7777778 0.01304348 19.03073    35\n",
      "[4] {Gembok Koper,                                                                                                \n",
      "     Tas Waist Bag}               => {Baju Renang Pria Anak-anak} 0.004057971  0.2745098 0.01478261 29.59559    14\n",
      "[5] {Flat Shoes Ballerina,                                                                                        \n",
      "     Gembok Koper}                => {Baju Renang Pria Anak-anak} 0.004057971  0.1866667 0.02173913 20.12500    14\n",
      "[6] {Celana Jeans Sobek Wanita,                                                                                   \n",
      "     Jeans Jumbo}                 => {Baju Renang Pria Anak-anak} 0.005507246  0.1210191 0.04550725 13.04737    19\n"
     ]
    }
   ],
   "source": [
    "# Filter dan mengambil aturan asosiasi yang memenuhi kriteria tertentu\n",
    "apriori_rules1 <- subset(apriori_rules, lift > 1 & rhs %in% \"Tas Makeup\")\n",
    "apriori_rules1 <- apriori_rules1[order(apriori_rules1@quality[,\"lift\"], decreasing = TRUE)][1:3]\n",
    "\n",
    "apriori_rules2 <- subset(apriori_rules, lift > 1 & rhs %in% \"Baju Renang Pria Anak-anak\")\n",
    "apriori_rules2 <- apriori_rules2[order(apriori_rules2@quality[,\"lift\"], decreasing = TRUE)][1:3]\n",
    "\n",
    "# Menggabungkan aturan yang telah difilter sebelumnya\n",
    "apriori_rules <- c(apriori_rules1, apriori_rules2)\n",
    "\n",
    "# Menampilkan aturan yang telah difilter\n",
    "inspect(apriori_rules)"
   ]
  },
  {
   "cell_type": "markdown",
   "metadata": {
    "id": "s-85UXCiHMkI"
   },
   "source": [
    "Dalam analisis aturan asosiasi menggunakan algoritma Apriori, telah dilakukan filter dan pengambilan aturan yang memenuhi kriteria tertentu berdasarkan lift yang lebih besar dari 1. Kriteria filter melibatkan asosiasi produk-produk tertentu seperti \"Tas Makeup\" dan \"Baju Renang Pria Anak-anak\".\n",
    "\n",
    "Hasilnya menunjukkan beberapa aturan asosiasi yang signifikan:\n",
    "\n",
    "Ditemukan kombinasi {Baju Renang Anak Perempuan, Tas Pinggang Wanita} yang memiliki lift sebesar 19.57 yang berkorelasi dengan keberadaan \"Tas Makeup\".\n",
    "Kombinasi {Baju Renang Anak Perempuan, Tas Ransel Mini} juga memiliki korelasi tinggi (lift 19.47) dengan \"Tas Makeup\".\n",
    "Itemset {Baju Renang Anak Perempuan, Celana Pendek Green/Hijau} menunjukkan korelasi dengan \"Tas Makeup\" yang cukup signifikan dengan lift 19.03.\n",
    "Selain itu, terdapat beberapa asosiasi antara produk yang berhubungan dengan \"Baju Renang Pria Anak-anak\" juga ditemukan, seperti kombinasi {Gembok Koper, Tas Waist Bag} yang memiliki korelasi tinggi (lift 29.59) dengan \"Baju Renang Pria Anak-anak\"."
   ]
  },
  {
   "cell_type": "code",
   "execution_count": 12,
   "metadata": {
    "id": "aFqWP3OEhqBm"
   },
   "outputs": [],
   "source": [
    "# Menulis aturan asosiasi ke dalam file teks\n",
    "write(apriori_rules, file=\"kombinasi_retail_slow_moving.txt\")"
   ]
  }
 ],
 "metadata": {
  "colab": {
   "private_outputs": true,
   "provenance": []
  },
  "kernelspec": {
   "display_name": "R",
   "language": "R",
   "name": "ir"
  },
  "language_info": {
   "codemirror_mode": "r",
   "file_extension": ".r",
   "mimetype": "text/x-r-source",
   "name": "R",
   "pygments_lexer": "r",
   "version": "4.1.3"
  }
 },
 "nbformat": 4,
 "nbformat_minor": 1
}
